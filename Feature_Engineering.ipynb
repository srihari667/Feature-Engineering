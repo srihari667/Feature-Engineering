{
  "cells": [
    {
      "cell_type": "markdown",
      "source": [
        "##Feature Engineering"
      ],
      "metadata": {
        "id": "DyDKZ53POuLa"
      },
      "id": "DyDKZ53POuLa"
    },
    {
      "cell_type": "markdown",
      "id": "fd81c299",
      "metadata": {
        "id": "fd81c299"
      },
      "source": [
        "1. What is a parameter?\n",
        "  - A parameter is a variable that defines a model's behavior during training. In statistics, it refers to numerical values (like coefficients) that summarize data. In machine learning, parameters are learned from data (e.g., weights in linear regression, neural network connections)."
      ]
    },
    {
      "cell_type": "markdown",
      "id": "44fcfdfb",
      "metadata": {
        "id": "44fcfdfb"
      },
      "source": [
        "2. What is correlation?\n",
        "   What does negative correlation mean?\n",
        "  - Correlation measures the strength and direction of the linear relationship between two variables. It ranges from -1 (perfect negative) to +1 (perfect positive), with 0 meaning no correlation.\n",
        "  \n",
        "  - Negative correlation means that as one variable increases, the other decreases. Example: hours spent watching TV vs exam performance."
      ]
    },
    {
      "cell_type": "markdown",
      "id": "31ffd0b5",
      "metadata": {
        "id": "31ffd0b5"
      },
      "source": [
        "3. Define Machine Learning. What are the main components in Machine Learning?\n",
        "  - **Machine Learning (ML)** is the field of study that enables computers to learn patterns from data and make predictions without being explicitly programmed.\n",
        "\n",
        "    **Main Components:**\n",
        "    - Dataset (features + target)\n",
        "    - Model (algorithm)\n",
        "    - Loss function\n",
        "    - Optimizer\n",
        "    - Evaluation metrics."
      ]
    },
    {
      "cell_type": "markdown",
      "id": "c3c7fd0a",
      "metadata": {
        "id": "c3c7fd0a"
      },
      "source": [
        "4. How does loss value help in determining whether the model is good or not?\n",
        "  - The loss value indicates how far the model's predictions are from the actual values. Lower loss means better performance. High loss signals underfitting or wrong model choice."
      ]
    },
    {
      "cell_type": "markdown",
      "id": "1ae286fd",
      "metadata": {
        "id": "1ae286fd"
      },
      "source": [
        "5. What are continuous and categorical variables?\n",
        "  - Continuous variables: Numeric values with infinite possibilities (e.g., height, weight).\n",
        "  - Categorical variables: Discrete values representing categories (e.g., gender, colors)."
      ]
    },
    {
      "cell_type": "markdown",
      "id": "12dcfb2b",
      "metadata": {
        "id": "12dcfb2b"
      },
      "source": [
        "6. How do we handle categorical variables in Machine Learning? What are the common techniques?\n",
        "\n",
        "    Handling categorical variables:\n",
        "    - Label Encoding (assigning numbers to categories)\n",
        "    - One-Hot Encoding (binary columns for each category)\n",
        "    - Ordinal Encoding (used for ordered categories).\n",
        "\n",
        "    In Python, we use `sklearn.preprocessing.LabelEncoder` or `OneHotEncoder`."
      ]
    },
    {
      "cell_type": "code",
      "execution_count": 2,
      "id": "2767eac8",
      "metadata": {
        "colab": {
          "base_uri": "https://localhost:8080/"
        },
        "id": "2767eac8",
        "outputId": "7a439a5b-f293-4964-b4be-b0cebc512d18"
      },
      "outputs": [
        {
          "output_type": "stream",
          "name": "stdout",
          "text": [
            "   Color  Color_Label  Color_Blue  Color_Green  Color_Red\n",
            "0    Red            2       False        False       True\n",
            "1   Blue            0        True        False      False\n",
            "2  Green            1       False         True      False\n",
            "3   Blue            0        True        False      False\n"
          ]
        }
      ],
      "source": [
        "import pandas as pd\n",
        "from sklearn.preprocessing import LabelEncoder, OneHotEncoder\n",
        "\n",
        "data = pd.DataFrame({'Color': ['Red', 'Blue', 'Green', 'Blue']})\n",
        "\n",
        "le = LabelEncoder()\n",
        "data['Color_Label'] = le.fit_transform(data['Color'])\n",
        "\n",
        "\n",
        "ohe = pd.get_dummies(data['Color'], prefix='Color')\n",
        "data = pd.concat([data, ohe], axis=1)\n",
        "print(data)"
      ]
    },
    {
      "cell_type": "markdown",
      "id": "cdb134ff",
      "metadata": {
        "id": "cdb134ff"
      },
      "source": [
        "7. What do you mean by training and testing a dataset?\n",
        "  - Training set: Used to teach the model patterns.\n",
        "  - Testing set: Used to evaluate how well the model generalizes to unseen data."
      ]
    },
    {
      "cell_type": "markdown",
      "id": "0fb9e9b7",
      "metadata": {
        "id": "0fb9e9b7"
      },
      "source": [
        "8. What is sklearn.preprocessing?\n",
        "  - `sklearn.preprocessing` is a module in Scikit-Learn that provides functions for scaling, encoding, normalization, and transformation of features before training ML models."
      ]
    },
    {
      "cell_type": "markdown",
      "id": "658c7c7c",
      "metadata": {
        "id": "658c7c7c"
      },
      "source": [
        "9. What is a Test set?\n",
        "  - A Test set is a subset of the dataset used only to evaluate model performance. It should not be used during training."
      ]
    },
    {
      "cell_type": "markdown",
      "id": "427d5567",
      "metadata": {
        "id": "427d5567"
      },
      "source": [
        "10. How do we split data for model fitting (training and testing) in Python?\n",
        "    How do you approach a Machine Learning problem?\n",
        "  - We use `train_test_split` from sklearn.\n",
        "\n",
        "  **approach a Machine Learning problem:**\n",
        "    1. Define problem statement\n",
        "    2. Collect and clean data\n",
        "    3. Perform Exploratory Data Analysis (EDA)\n",
        "    4. Preprocess (scaling, encoding, splitting)\n",
        "    5. Train models\n",
        "    6. Evaluate using metrics\n",
        "    7. Tune hyperparameters\n",
        "    8. Deploy the best model."
      ]
    },
    {
      "cell_type": "code",
      "execution_count": 3,
      "id": "6029acd2",
      "metadata": {
        "colab": {
          "base_uri": "https://localhost:8080/"
        },
        "id": "6029acd2",
        "outputId": "16606b68-2184-4064-e537-01b02b21dbab"
      },
      "outputs": [
        {
          "output_type": "stream",
          "name": "stdout",
          "text": [
            "Train Shape: (4, 2)\n",
            "Test Shape: (1, 2)\n"
          ]
        }
      ],
      "source": [
        "from sklearn.model_selection import train_test_split\n",
        "import pandas as pd\n",
        "\n",
        "X = pd.DataFrame({'A':[1,2,3,4,5], 'B':[10,20,30,40,50]})\n",
        "y = [0,1,0,1,0]\n",
        "\n",
        "X_train, X_test, y_train, y_test = train_test_split(X, y, test_size=0.2, random_state=42)\n",
        "print(\"Train Shape:\", X_train.shape)\n",
        "print(\"Test Shape:\", X_test.shape)"
      ]
    },
    {
      "cell_type": "markdown",
      "id": "254d192e",
      "metadata": {
        "id": "254d192e"
      },
      "source": [
        "11. Why do we have to perform EDA before fitting a model to the data?\n",
        "  - EDA (Exploratory Data Analysis) helps us understand data distributions, detect missing values, outliers, correlations, and relationships. It guides preprocessing and feature selection, ensuring better model performance."
      ]
    },
    {
      "cell_type": "markdown",
      "id": "174680e7",
      "metadata": {
        "id": "174680e7"
      },
      "source": [
        "12. What is correlation?\n",
        "  -   - Correlation measures the strength and direction of the linear relationship between two variables. It ranges from -1 (perfect negative) to +1 (perfect positive), with 0 meaning no correlation."
      ]
    },
    {
      "cell_type": "markdown",
      "source": [
        "13. What does negative correlation mean?\n",
        "  - Negative correlation means that as one variable increases, the other decreases. Example: hours spent watching TV vs exam performance."
      ],
      "metadata": {
        "id": "FNzDGtuRVVye"
      },
      "id": "FNzDGtuRVVye"
    },
    {
      "cell_type": "markdown",
      "source": [
        "14. How can you find correlation between variables in Python?\n",
        "  - We use `df.corr()` or `seaborn.heatmap`."
      ],
      "metadata": {
        "id": "CVhqUMo1VwKQ"
      },
      "id": "CVhqUMo1VwKQ"
    },
    {
      "cell_type": "code",
      "source": [
        "import seaborn as sns\n",
        "import matplotlib.pyplot as plt\n",
        "import pandas as pd\n",
        "\n",
        "df = pd.DataFrame({'A':[1,2,3,4], 'B':[2,4,6,8], 'C':[5,7,6,10]})\n",
        "print(df.corr())\n",
        "\n",
        "sns.heatmap(df.corr(), annot=True, cmap='coolwarm')\n",
        "plt.show()"
      ],
      "metadata": {
        "colab": {
          "base_uri": "https://localhost:8080/",
          "height": 504
        },
        "id": "ntkV_4gGWIve",
        "outputId": "8d935b62-0df2-4c4c-a5fe-dacb043b3801"
      },
      "id": "ntkV_4gGWIve",
      "execution_count": 4,
      "outputs": [
        {
          "output_type": "stream",
          "name": "stdout",
          "text": [
            "         A        B        C\n",
            "A  1.00000  1.00000  0.83666\n",
            "B  1.00000  1.00000  0.83666\n",
            "C  0.83666  0.83666  1.00000\n"
          ]
        },
        {
          "output_type": "display_data",
          "data": {
            "text/plain": [
              "<Figure size 640x480 with 2 Axes>"
            ],
            "image/png": "[encoded data removed]"
          },
          "metadata": {}
        }
      ]
    },
    {
      "cell_type": "markdown",
      "id": "858e12f7",
      "metadata": {
        "id": "858e12f7"
      },
      "source": [
        "15. What is causation? Explain difference between correlation and causation with an example.\n",
        "  - Correlation: Relationship between two variables (they move together).\n",
        "  - Causation: One variable directly affects another.\n",
        "\n",
        "      Example: Ice cream sales and drowning cases are correlated (both rise in summer) but **eating ice cream doesn’t cause drowning**."
      ]
    },
    {
      "cell_type": "markdown",
      "id": "a84f9795",
      "metadata": {
        "id": "a84f9795"
      },
      "source": [
        "16. What is an Optimizer? What are different types of optimizers? Explain each with an example.\n",
        "    **Optimizer**: Algorithm used to update model parameters (weights) to minimize loss.\n",
        "\n",
        "    **Types:**\n",
        "    - Gradient Descent\n",
        "    - Stochastic Gradient Descent (SGD)\n",
        "    - Adam (adaptive learning)\n",
        "    - RMSprop\n",
        "\n",
        "    Example in Keras:\n",
        "    ```python\n",
        "    from tensorflow.keras.optimizers import Adam\n",
        "    model.compile(optimizer=Adam(learning_rate=0.01), loss='mse')\n",
        "    ```"
      ]
    },
    {
      "cell_type": "markdown",
      "id": "b31fa2df",
      "metadata": {
        "id": "b31fa2df"
      },
      "source": [
        "17. What is sklearn.linear_model ?\n",
        "  - `sklearn.linear_model` is a module containing linear models like Linear Regression, Logistic Regression, Ridge, Lasso, etc."
      ]
    },
    {
      "cell_type": "markdown",
      "id": "b96ede3e",
      "metadata": {
        "id": "b96ede3e"
      },
      "source": [
        "18. What does model.fit() do? What arguments must be given?\n",
        "  - `model.fit(X, y)` trains the model on input features `X` and target `y`.\n",
        "  - Arguments: Training data (X, y), optional hyperparameters like epochs, batch size."
      ]
    },
    {
      "cell_type": "markdown",
      "id": "6b494971",
      "metadata": {
        "id": "6b494971"
      },
      "source": [
        "19. What does model.predict() do? What arguments must be given?\n",
        "  - `model.predict(X_test)` generates predictions on new/unseen input `X_test`."
      ]
    },
    {
      "cell_type": "markdown",
      "source": [
        "20. What are continuous and categorical variables?\n",
        "  - Continuous variables: Numeric values with infinite possibilities (e.g., height, weight).\n",
        "  - Categorical variables: Discrete values representing categories (e.g., gender, colors)."
      ],
      "metadata": {
        "id": "CLWgyawlZNrF"
      },
      "id": "CLWgyawlZNrF"
    },
    {
      "cell_type": "markdown",
      "id": "2ea7da3b",
      "metadata": {
        "id": "2ea7da3b"
      },
      "source": [
        "21. What is feature scaling? How does it help in Machine Learning?\n",
        "  - Feature scaling is the process of standardizing/normalizing features to ensure all have similar ranges. It improves model performance, especially for algorithms using distance metrics (KNN, SVM).\n",
        "\n",
        "      Techniques: Min-Max Scaling, Standardization."
      ]
    },
    {
      "cell_type": "markdown",
      "id": "e71d83c8",
      "metadata": {
        "id": "e71d83c8"
      },
      "source": [
        "22. How do we perform scaling in Python?\n",
        "  - Using `StandardScaler` or `MinMaxScaler` from sklearn."
      ]
    },
    {
      "cell_type": "code",
      "execution_count": 6,
      "id": "5db41080",
      "metadata": {
        "colab": {
          "base_uri": "https://localhost:8080/"
        },
        "id": "5db41080",
        "outputId": "904766a8-3f71-4c1b-ca7a-36b1f7072cd1"
      },
      "outputs": [
        {
          "output_type": "stream",
          "name": "stdout",
          "text": [
            "Standard Scaled:\n",
            " [[-1.41421356 -1.41421356]\n",
            " [-0.70710678 -0.70710678]\n",
            " [ 0.          0.        ]\n",
            " [ 0.70710678  0.70710678]\n",
            " [ 1.41421356  1.41421356]]\n",
            "Min-Max Scaled:\n",
            " [[0.   0.  ]\n",
            " [0.25 0.25]\n",
            " [0.5  0.5 ]\n",
            " [0.75 0.75]\n",
            " [1.   1.  ]]\n"
          ]
        }
      ],
      "source": [
        "from sklearn.preprocessing import StandardScaler, MinMaxScaler\n",
        "import pandas as pd\n",
        "\n",
        "data = pd.DataFrame({'A':[1,2,3,4,5], 'B':[10,20,30,40,50]})\n",
        "\n",
        "scaler = StandardScaler()\n",
        "scaled = scaler.fit_transform(data)\n",
        "print(\"Standard Scaled:\\n\", scaled)\n",
        "\n",
        "minmax = MinMaxScaler()\n",
        "scaled2 = minmax.fit_transform(data)\n",
        "print(\"Min-Max Scaled:\\n\", scaled2)"
      ]
    },
    {
      "cell_type": "markdown",
      "source": [
        "23. What is sklearn.preprocessing?\n",
        "  - `sklearn.preprocessing` is a module in Scikit-Learn that provides functions for scaling, encoding, normalization, and transformation of features before training ML models."
      ],
      "metadata": {
        "id": "ThDIhryCaGT_"
      },
      "id": "ThDIhryCaGT_"
    },
    {
      "cell_type": "markdown",
      "source": [
        "24. How do we split data for model fitting (training and testing) in Python?\n",
        "    How do you approach a Machine Learning problem?\n",
        "  - We use `train_test_split` from sklearn.\n",
        "\n",
        "  **approach a Machine Learning problem:**\n",
        "    1. Define problem statement\n",
        "    2. Collect and clean data\n",
        "    3. Perform Exploratory Data Analysis (EDA)\n",
        "    4. Preprocess (scaling, encoding, splitting)\n",
        "    5. Train models\n",
        "    6. Evaluate using metrics\n",
        "    7. Tune hyperparameters\n",
        "    8. Deploy the best model."
      ],
      "metadata": {
        "id": "Ea9sGEeiaQ-k"
      },
      "id": "Ea9sGEeiaQ-k"
    },
    {
      "cell_type": "markdown",
      "id": "5f07dce1",
      "metadata": {
        "id": "5f07dce1"
      },
      "source": [
        "25. Explain data encoding?\n",
        "  - Data encoding is the process of converting categorical variables into numerical format for ML models. Techniques: Label Encoding, One-Hot Encoding, Ordinal Encoding."
      ]
    }
  ],
  "metadata": {
    "colab": {
      "provenance": []
    },
    "language_info": {
      "name": "python"
    },
    "kernelspec": {
      "name": "python3",
      "display_name": "Python 3"
    }
  },
  "nbformat": 4,
  "nbformat_minor": 5
}